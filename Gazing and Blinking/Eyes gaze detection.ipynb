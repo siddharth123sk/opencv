{
 "cells": [
  {
   "cell_type": "code",
   "execution_count": 1,
   "metadata": {},
   "outputs": [],
   "source": [
    "import cv2\n",
    "import numpy as np\n",
    "import dlib\n",
    "from math import hypot"
   ]
  },
  {
   "cell_type": "code",
   "execution_count": 2,
   "metadata": {},
   "outputs": [],
   "source": [
    "detector = dlib.get_frontal_face_detector()\n",
    "\n",
    "predictor = dlib.shape_predictor(\"shape_predictor_68_face_landmarks.dat\")\n",
    "\n",
    "font = cv2.FONT_HERSHEY_PLAIN"
   ]
  },
  {
   "cell_type": "code",
   "execution_count": 3,
   "metadata": {},
   "outputs": [],
   "source": [
    "def midpoint(p1 ,p2):\n",
    "    return int((p1.x + p2.x)/2), int((p1.y + p2.y)/2)"
   ]
  },
  {
   "cell_type": "code",
   "execution_count": 4,
   "metadata": {},
   "outputs": [],
   "source": [
    "def get_blinking_ratio(eye_points, facial_landmarks):\n",
    "    \n",
    "    left_point = (facial_landmarks.part(eye_points[0]).x, facial_landmarks.part(eye_points[0]).y)\n",
    "    right_point = (facial_landmarks.part(eye_points[3]).x, facial_landmarks.part(eye_points[3]).y)\n",
    "    \n",
    "    center_top = midpoint(facial_landmarks.part(eye_points[1]), facial_landmarks.part(eye_points[2]))\n",
    "    center_bottom = midpoint(facial_landmarks.part(eye_points[5]), facial_landmarks.part(eye_points[4]))\n",
    "    hor_line = cv2.line(frame, left_point, right_point, (0, 255, 0), 2)\n",
    "    ver_line = cv2.line(frame, center_top, center_bottom, (0, 255, 0), 2)\n",
    "    hor_line_lenght = hypot((left_point[0] - right_point[0]), (left_point[1] - right_point[1]))\n",
    "    ver_line_lenght = hypot((center_top[0] - center_bottom[0]), (center_top[1] - center_bottom[1]))\n",
    "    ratio = hor_line_lenght / ver_line_lenght\n",
    "    return ratio\n"
   ]
  },
  {
   "cell_type": "code",
   "execution_count": 5,
   "metadata": {},
   "outputs": [],
   "source": [
    "cap = cv2.VideoCapture(0)\n",
    "while True:\n",
    "    _,frame = cap.read()\n",
    "    \n",
    "    gray = cv2.cvtColor(frame, cv2.COLOR_BGR2GRAY)\n",
    "    \n",
    "    faces = detector(gray)\n",
    "    for face in faces:\n",
    "        \n",
    "        landmarks = predictor(gray, face)\n",
    "        \n",
    "        left_eye_ratio = get_blinking_ratio([36, 37, 38, 39, 40, 41], landmarks)\n",
    "        right_eye_ratio = get_blinking_ratio([42, 43, 44, 45, 46, 47], landmarks)\n",
    "        blinking_ratio = (left_eye_ratio + right_eye_ratio) / 2\n",
    "\n",
    "    \n",
    "        if blinking_ratio>5.7:\n",
    "            cv2.putText(frame, \"BLINKING\", (50, 150), font, 7, (255, 0, 0))\n",
    "            \n",
    "            \n",
    "\n",
    "        left_eye_region = np.array([(landmarks.part(36).x, landmarks.part(36).y),\n",
    "                            (landmarks.part(37).x, landmarks.part(37).y),\n",
    "                            (landmarks.part(38).x, landmarks.part(38).y),\n",
    "                            (landmarks.part(39).x, landmarks.part(39).y),\n",
    "                            (landmarks.part(40).x, landmarks.part(40).y),\n",
    "                            (landmarks.part(41).x, landmarks.part(41).y)], np.int32)\n",
    "        \n",
    "        height, width, _ = frame.shape\n",
    "    \n",
    "        mask = np.zeros((height, width), np.uint8)\n",
    "        cv2.polylines(mask, [left_eye_region], True, 255, 2)\n",
    "        cv2.fillPoly(mask, [left_eye_region], 255)\n",
    "        left_eye = cv2.bitwise_and(gray,gray,mask = mask)\n",
    "        \n",
    "\n",
    "        min_x = np.min(left_eye_region[:, 0])\n",
    "        max_x = np.max(left_eye_region[:, 0])\n",
    "        min_y = np.min(left_eye_region[:, 1])\n",
    "        max_y = np.max(left_eye_region[:, 1])\n",
    "        gray_eye = left_eye[min_y: max_y, min_x: max_x]\n",
    "        \n",
    "        _, threshold_eye = cv2.threshold(gray_eye, 70, 255, cv2.THRESH_BINARY)\n",
    "        \n",
    "        threshold_eye = cv2.resize(threshold_eye,None ,fx = 5,fy = 5)\n",
    "        eye = cv2.resize(gray_eye, None,fx = 5,fy = 5)\n",
    "        \n",
    "        cv2.imshow(\"EYE\",eye)\n",
    "        cv2.imshow(\"THRESHOLD\",threshold_eye)\n",
    "        cv2.imshow(\"LEFT_EYE\",left_eye)\n",
    "        cv2.imshow(\"mask\",mask)\n",
    "         \n",
    "\n",
    "    cv2.imshow(\"Frame\",frame)\n",
    "    \n",
    "    \n",
    "    key = cv2.waitKey(1)\n",
    "    if key == 27:\n",
    "        break\n",
    "\n",
    "cap.release()\n",
    "cv2.destroyAllWindows()"
   ]
  },
  {
   "cell_type": "code",
   "execution_count": null,
   "metadata": {},
   "outputs": [],
   "source": []
  }
 ],
 "metadata": {
  "kernelspec": {
   "display_name": "Python 3",
   "language": "python",
   "name": "python3"
  },
  "language_info": {
   "codemirror_mode": {
    "name": "ipython",
    "version": 3
   },
   "file_extension": ".py",
   "mimetype": "text/x-python",
   "name": "python",
   "nbconvert_exporter": "python",
   "pygments_lexer": "ipython3",
   "version": "3.8.2"
  }
 },
 "nbformat": 4,
 "nbformat_minor": 4
}
