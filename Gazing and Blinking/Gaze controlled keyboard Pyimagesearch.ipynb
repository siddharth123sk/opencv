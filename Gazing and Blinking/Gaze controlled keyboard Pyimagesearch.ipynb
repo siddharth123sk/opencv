{
 "cells": [
  {
   "cell_type": "code",
   "execution_count": 21,
   "metadata": {},
   "outputs": [
    {
     "name": "stdout",
     "output_type": "stream",
     "text": [
      "Collecting pip\n",
      "  Downloading pip-20.2.4-py2.py3-none-any.whl (1.5 MB)\n",
      "\u001b[K     |████████████████████████████████| 1.5 MB 2.8 MB/s eta 0:00:01\n",
      "\u001b[?25hInstalling collected packages: pip\n",
      "  Attempting uninstall: pip\n",
      "    Found existing installation: pip 20.2.2\n",
      "    Uninstalling pip-20.2.2:\n",
      "      Successfully uninstalled pip-20.2.2\n",
      "Successfully installed pip-20.2.4\n"
     ]
    }
   ],
   "source": [
    "!pip3 install --upgrade pip"
   ]
  },
  {
   "cell_type": "code",
   "execution_count": 24,
   "metadata": {},
   "outputs": [
    {
     "name": "stdout",
     "output_type": "stream",
     "text": [
      "Collecting cmake\n",
      "  Downloading cmake-3.18.2.post1-py3-none-macosx_10_6_x86_64.whl (43.0 MB)\n",
      "\u001b[K     |████████████████████████████████| 43.0 MB 715 kB/s eta 0:00:01\n",
      "\u001b[?25hInstalling collected packages: cmake\n",
      "Successfully installed cmake-3.18.2.post1\n"
     ]
    }
   ],
   "source": [
    "!pip install cmake"
   ]
  },
  {
   "cell_type": "code",
   "execution_count": 25,
   "metadata": {},
   "outputs": [
    {
     "name": "stdout",
     "output_type": "stream",
     "text": [
      "Collecting dlib\n",
      "  Using cached dlib-19.21.0.tar.gz (3.2 MB)\n",
      "Building wheels for collected packages: dlib\n",
      "  Building wheel for dlib (setup.py) ... \u001b[?25ldone\n",
      "\u001b[?25h  Created wheel for dlib: filename=dlib-19.21.0-cp38-cp38-macosx_10_15_x86_64.whl size=3283361 sha256=513261864c270f0a383153575bdff85f975403c04cdb9a9598faa3c64dff0ccd\n",
      "  Stored in directory: /Users/siddharthsah/Library/Caches/pip/wheels/3a/4e/b6/77346839e430150a62d9b46bf7e0a37181fe01fd07d5d452a7\n",
      "Successfully built dlib\n",
      "Installing collected packages: dlib\n",
      "Successfully installed dlib-19.21.0\n"
     ]
    }
   ],
   "source": [
    "!pip install dlib"
   ]
  },
  {
   "cell_type": "code",
   "execution_count": 11,
   "metadata": {},
   "outputs": [],
   "source": [
    "import cv2\n",
    "import numpy as np\n",
    "import dlib"
   ]
  },
  {
   "cell_type": "code",
   "execution_count": 12,
   "metadata": {},
   "outputs": [],
   "source": [
    "detector = dlib.get_frontal_face_detector()\n",
    "\n",
    "predictor = dlib.shape_predictor(\"shape_predictor_68_face_landmarks.dat\")"
   ]
  },
  {
   "cell_type": "code",
   "execution_count": 13,
   "metadata": {},
   "outputs": [],
   "source": [
    "def midpoint(p1, p2):\n",
    "    return int((p1.x + p2.x)/2), int((p1.y + p2.y)/2)"
   ]
  },
  {
   "cell_type": "code",
   "execution_count": null,
   "metadata": {},
   "outputs": [],
   "source": [
    "cap = cv2.VideoCapture(0)\n",
    "while True:\n",
    "    _, frame = cap.read()\n",
    "    gray = cv2.cvtColor(frame, cv2.COLOR_BGR2GRAY)\n",
    "    \n",
    "    faces = detector(gray)\n",
    "    \n",
    "    for face in faces:\n",
    "        \n",
    "        landmarks = predictor(gray, face)\n",
    "        \n",
    "        left_point_lefti = (landmarks.part(36).x, landmarks.part(36).y)\n",
    "        right_point_lefti = (landmarks.part(39).x, landmarks.part(39).y)\n",
    "        \n",
    "        center_top_lefti = midpoint(landmarks.part(37), landmarks.part(38))\n",
    "        center_bottom_lefti = midpoint(landmarks.part(41), landmarks.part(40))\n",
    "        \n",
    "        hor_line_lefti = cv2.line(frame, left_point_lefti, right_point_lefti, (0, 255, 0), 2)\n",
    "        ver_line_lefti = cv2.line(frame, center_top_lefti, center_bottom_lefti, (0, 255, 0), 2)\n",
    "        \n",
    "        left_point_righti = (landmarks.part(42).x, landmarks.part(42).y)\n",
    "        right_point_righti = (landmarks.part(45).x, landmarks.part(45).y)\n",
    "        \n",
    "        center_top_righti = midpoint(landmarks.part(43), landmarks.part(44))\n",
    "        center_bottom_righti = midpoint(landmarks.part(47), landmarks.part(46))\n",
    "        \n",
    "        hor_line_righti = cv2.line(frame, left_point_righti, right_point_righti, (0, 255, 0), 2)\n",
    "        ver_line_righti = cv2.line(frame, center_top_righti, center_bottom_righti, (0, 255, 0), 2)\n",
    "        \n",
    "    cv2.imshow(\"Frame\", frame)\n",
    "    \n",
    "    key = cv2.waitKey(1)\n",
    "    if key == 27:\n",
    "        break\n",
    "\n",
    "cap.release()\n",
    "cap.destoyAllWindows()"
   ]
  },
  {
   "cell_type": "code",
   "execution_count": null,
   "metadata": {},
   "outputs": [],
   "source": []
  },
  {
   "cell_type": "code",
   "execution_count": null,
   "metadata": {},
   "outputs": [],
   "source": []
  }
 ],
 "metadata": {
  "kernelspec": {
   "display_name": "Python 3",
   "language": "python",
   "name": "python3"
  },
  "language_info": {
   "codemirror_mode": {
    "name": "ipython",
    "version": 3
   },
   "file_extension": ".py",
   "mimetype": "text/x-python",
   "name": "python",
   "nbconvert_exporter": "python",
   "pygments_lexer": "ipython3",
   "version": "3.8.2"
  }
 },
 "nbformat": 4,
 "nbformat_minor": 4
}
